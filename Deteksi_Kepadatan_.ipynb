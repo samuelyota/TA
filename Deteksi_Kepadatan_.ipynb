{
  "nbformat": 4,
  "nbformat_minor": 0,
  "metadata": {
    "colab": {
      "provenance": [],
      "authorship_tag": "ABX9TyMzlqH1LRxcla8WKYZR/gtN",
      "include_colab_link": true
    },
    "kernelspec": {
      "name": "python3",
      "display_name": "Python 3"
    },
    "language_info": {
      "name": "python"
    }
  },
  "cells": [
    {
      "cell_type": "markdown",
      "metadata": {
        "id": "view-in-github",
        "colab_type": "text"
      },
      "source": [
        "<a href=\"https://colab.research.google.com/github/samuelyota/TA/blob/main/Deteksi_Kepadatan_.ipynb\" target=\"_parent\"><img src=\"https://colab.research.google.com/assets/colab-badge.svg\" alt=\"Open In Colab\"/></a>"
      ]
    },
    {
      "cell_type": "code",
      "source": [
        "!python --version\n"
      ],
      "metadata": {
        "colab": {
          "base_uri": "https://localhost:8080/"
        },
        "id": "FSLgzi7DKZH7",
        "outputId": "f6db5ada-701d-4003-b448-554850b2953f"
      },
      "execution_count": null,
      "outputs": [
        {
          "output_type": "stream",
          "name": "stdout",
          "text": [
            "Python 3.10.11\n"
          ]
        }
      ]
    },
    {
      "cell_type": "code",
      "source": [
        "import cv2\n",
        "import numpy as np\n",
        "import time"
      ],
      "metadata": {
        "id": "mFBJzAwmeEQ2"
      },
      "execution_count": null,
      "outputs": []
    },
    {
      "cell_type": "code",
      "execution_count": null,
      "metadata": {
        "id": "SHwWCkAUdnY6"
      },
      "outputs": [],
      "source": [
        "cap = cv2.VideoCapture(\"video1.mp4\")"
      ]
    },
    {
      "cell_type": "code",
      "source": [
        "path_label = 'coco.names'"
      ],
      "metadata": {
        "id": "ORJ5yByeogYY"
      },
      "execution_count": null,
      "outputs": []
    },
    {
      "cell_type": "code",
      "source": [
        "classes = []\n",
        "with open (path_label, 'rt') as f:\n",
        "  classes = f.read().rstrip('\\n').split('\\n')"
      ],
      "metadata": {
        "id": "7EvklYSOogvV"
      },
      "execution_count": null,
      "outputs": []
    },
    {
      "cell_type": "code",
      "source": [
        "wght_hght_target = 416\n",
        "model_Config = 'yolov3.cfg'\n",
        "model_Weights = 'yolov3.weights'\n",
        "confThreshold = 0.4\n",
        "nmsThreshold = 0.2\n",
        "inccount1 = 0\n",
        "inccount2 = 0\n",
        "inccount3 = 0\n",
        "inccount4 = 0\n",
        "inccount5 = 0\n",
        "inccount_reset = 0\n",
        "start_time = time.time()"
      ],
      "metadata": {
        "id": "hgcPE5Scog7K"
      },
      "execution_count": null,
      "outputs": []
    },
    {
      "cell_type": "code",
      "source": [
        "network = cv2.dnn.readNetFromDarknet(model_Config, model_Weights)\n",
        "network.setPreferableBackend(cv2.dnn.DNN_BACKEND_OPENCV)\n",
        "network.setPreferableBackend(cv2.dnn.DNN_TARGET_CPU)"
      ],
      "metadata": {
        "id": "srwRQmPftYzY"
      },
      "execution_count": null,
      "outputs": []
    },
    {
      "cell_type": "code",
      "source": [
        "result = cv2.VideoWriter('result.mp4',cv2.VideoWriter_fourcc(*'XVID'),20,(640,480))"
      ],
      "metadata": {
        "id": "b0BpJa2rog_J"
      },
      "execution_count": null,
      "outputs": []
    },
    {
      "cell_type": "code",
      "source": [
        "def findObject(outputs,img):\n",
        "  heightTar, weightTar, chanelsTar = img.shape\n",
        "  bbox = []\n",
        "  classId = []\n",
        "  confidence = []\n",
        "  count1 = 0\n",
        "  count2 = 0\n",
        "  count3 = 0\n",
        "  count4 = 0\n",
        "  for output in outputs:\n",
        "    for det in output :\n",
        "      score = det [5:]\n",
        "      classIds = np.argmax(score)\n",
        "      confids = score [classIds]\n",
        "      if classIds == 2 or classIds == 3 or classIds == 7 or classIds == 5:\n",
        "        if confids > confThreshold:\n",
        "          x,h = int(det[2]*weightTar), int(det[2]*heightTar)\n",
        "          x,y = int((det[0]*weightTar)-w/2), int((det[3]*heightTar)-h/2)\n",
        "          bbox.append([x,y,w,h])\n",
        "          classId.append(classIds)\n",
        "          confidance.append(float(confids))\n",
        "          if (int(img.shape[0]/2)-3) < y < (int(img.shape[0]/2)+3):\n",
        "            if classes == 2 :\n",
        "             count1 = count1 +1\n",
        "            if classes == 3 :\n",
        "              count2 = count2 +1\n",
        "            if classes == 5 :\n",
        "              count3 = count3 +1\n",
        "            if classes == 7 :\n",
        "              count4 = count4 +1\n",
        "      else:\n",
        "        continue\n",
        "  draw_box = cv2.dnn.NMSBoxes[bbox, confidance, confThreshold, nmsThreshold]\n",
        "  for i in draw_box :\n",
        "    i = i[0]\n",
        "    box = bbox[1]\n",
        "    x,y,w,h = box[0], box[1],box[2],box[3]\n",
        "    cv2.rectangle(img,(x,y),(x+w, y+h),(255,255,0),2)\n",
        "    cv2.putText(img,f'{classes[classId[i]].upper()} {int(confidance(i)*100)}%',(x,y-10),cv2.FONT_HERSHEY_SIMPLEX,0.6,(255,255,0),2)\n",
        "\n",
        "    cv2.line(img, (0,int(img.shape[0]/2)+3), (int(img.shape[1]),int(img.shape[0]/2)+3), (0,0,100),1)\n",
        "    cv2.line(img, (0,int(img.shape[0]/2) - 3), (int(img.shape[1]),int(img.shape[0] / 2)-3), (0,0,100),1)\n",
        "\n",
        "    return count1, count2, count3, count4"
      ],
      "metadata": {
        "id": "I5bbSicFohB6"
      },
      "execution_count": null,
      "outputs": []
    },
    {
      "cell_type": "code",
      "source": [
        "while True:\n",
        "  success, img = cap.read()\n",
        "  img = cv2.resize(img, (640,480))\n",
        "  cv2.imshow('video',img)\n",
        "  blob = cv2.dnn.blobFromImage(img,1/255, (wght_hght_target,wght_hght_target),[0,0,0],1,crop=False)\n",
        "  network.setInput(blob)\n",
        "  LayerNames = network.getLayerNames()\n",
        "  outputName = [LayerNames[i[0]-1] for i in network.getUnconnectedOutLayers()]\n",
        "  outputs = network.forward(outputName)\n",
        "  couter1,counter2,counter3,counter4 = findObject(outputs, img)\n",
        "\n",
        "  inccount1 = inccount1 + counter1\n",
        "  inccount2 = inccount2 + counter2\n",
        "  inccount3 = inccount3 + counter3\n",
        "  inccount4 = inccount4 + counter4\n",
        "  inccount5 = inccount5 + (counter1+counter2+counter3+counter4)\n",
        "  real_time = time.time()\n",
        "  inccount_reset = int(time.time()-start_time)\n",
        "  if inccount_reset == 3600 :\n",
        "    inccount1 = 0\n",
        "    inccount2 = 0\n",
        "    inccount3 = 0\n",
        "    inccount4 = 0\n",
        "    inccount5 = 0\n",
        "    inccount_reset = 0\n",
        "    start_time = run_time\n",
        "\n",
        "  cv2.putText(img,f'counting car : (inccount1)',(25,20),cv2.FONT_HERSHEY_SIMPLEX,0.6,(200,0,0),2) \n",
        "  cv2.putText(img,f'counting Bike : (inccount2)',(25,40),cv2.FONT_HERSHEY_SIMPLEX,0.6,(0,200,0),2)\n",
        "  cv2.putText(img,f'counting Bus : (inccount3)',(25,60),cv2.FONT_HERSHEY_SIMPLEX,0.6,(200,0,0),2)\n",
        "  cv2.putText(img,f'counting Truck : (inccount4)',(25,80),cv2.FONT_HERSHEY_SIMPLEX,0.6,(0,200,200),2)\n",
        "  cv2.putText(img,f'Total : (inccount5)',(25,100),cv2.FONT_HERSHEY_SIMPLEX,0.6,(200,200,0),2)\n",
        "  result.write(img)\n",
        "  cv2.imshow('video',img)\n",
        "\n",
        "  if cv2.waitkey(1) & 0xFF == ord('q'):\n",
        "    break"
      ],
      "metadata": {
        "colab": {
          "base_uri": "https://localhost:8080/",
          "height": 460
        },
        "id": "gzG_ek2wngZ7",
        "outputId": "982741ba-708d-4443-dba5-fcba1a956461"
      },
      "execution_count": null,
      "outputs": [
        {
          "output_type": "error",
          "ename": "DisabledFunctionError",
          "evalue": "ignored",
          "traceback": [
            "\u001b[0;31m---------------------------------------------------------------------------\u001b[0m",
            "\u001b[0;31mDisabledFunctionError\u001b[0m                     Traceback (most recent call last)",
            "\u001b[0;32m<ipython-input-234-7d940e307e2c>\u001b[0m in \u001b[0;36m<cell line: 1>\u001b[0;34m()\u001b[0m\n\u001b[1;32m      3\u001b[0m   \u001b[0mimg\u001b[0m \u001b[0;34m=\u001b[0m \u001b[0mcv2\u001b[0m\u001b[0;34m.\u001b[0m\u001b[0mresize\u001b[0m\u001b[0;34m(\u001b[0m\u001b[0mimg\u001b[0m\u001b[0;34m,\u001b[0m \u001b[0;34m(\u001b[0m\u001b[0;36m640\u001b[0m\u001b[0;34m,\u001b[0m\u001b[0;36m480\u001b[0m\u001b[0;34m)\u001b[0m\u001b[0;34m)\u001b[0m\u001b[0;34m\u001b[0m\u001b[0;34m\u001b[0m\u001b[0m\n\u001b[1;32m      4\u001b[0m   \u001b[0;32mfrom\u001b[0m \u001b[0mgoogle\u001b[0m\u001b[0;34m.\u001b[0m\u001b[0mcolab\u001b[0m\u001b[0;34m.\u001b[0m\u001b[0mpatches\u001b[0m \u001b[0;32mimport\u001b[0m \u001b[0mcv2_imshow\u001b[0m\u001b[0;34m\u001b[0m\u001b[0;34m\u001b[0m\u001b[0m\n\u001b[0;32m----> 5\u001b[0;31m   \u001b[0mcv2\u001b[0m\u001b[0;34m.\u001b[0m\u001b[0mimshow\u001b[0m\u001b[0;34m(\u001b[0m\u001b[0mimg\u001b[0m\u001b[0;34m)\u001b[0m\u001b[0;34m\u001b[0m\u001b[0;34m\u001b[0m\u001b[0m\n\u001b[0m\u001b[1;32m      6\u001b[0m   \u001b[0mblob\u001b[0m \u001b[0;34m=\u001b[0m \u001b[0mcv2\u001b[0m\u001b[0;34m.\u001b[0m\u001b[0mdnn\u001b[0m\u001b[0;34m.\u001b[0m\u001b[0mblobFromImage\u001b[0m\u001b[0;34m(\u001b[0m\u001b[0mimg\u001b[0m\u001b[0;34m,\u001b[0m\u001b[0;36m1\u001b[0m\u001b[0;34m/\u001b[0m\u001b[0;36m255\u001b[0m\u001b[0;34m,\u001b[0m \u001b[0;34m(\u001b[0m\u001b[0mwght_hght_target\u001b[0m\u001b[0;34m,\u001b[0m\u001b[0mwght_hght_target\u001b[0m\u001b[0;34m)\u001b[0m\u001b[0;34m,\u001b[0m\u001b[0;34m[\u001b[0m\u001b[0;36m0\u001b[0m\u001b[0;34m,\u001b[0m\u001b[0;36m0\u001b[0m\u001b[0;34m,\u001b[0m\u001b[0;36m0\u001b[0m\u001b[0;34m]\u001b[0m\u001b[0;34m,\u001b[0m\u001b[0;36m1\u001b[0m\u001b[0;34m,\u001b[0m\u001b[0mcrop\u001b[0m\u001b[0;34m=\u001b[0m\u001b[0;32mFalse\u001b[0m\u001b[0;34m)\u001b[0m\u001b[0;34m\u001b[0m\u001b[0;34m\u001b[0m\u001b[0m\n\u001b[1;32m      7\u001b[0m   \u001b[0mnetwork\u001b[0m\u001b[0;34m.\u001b[0m\u001b[0msetInput\u001b[0m\u001b[0;34m(\u001b[0m\u001b[0mblob\u001b[0m\u001b[0;34m)\u001b[0m\u001b[0;34m\u001b[0m\u001b[0;34m\u001b[0m\u001b[0m\n",
            "\u001b[0;32m/usr/local/lib/python3.10/dist-packages/google/colab/_import_hooks/_cv2.py\u001b[0m in \u001b[0;36mwrapped\u001b[0;34m(*args, **kwargs)\u001b[0m\n\u001b[1;32m     46\u001b[0m   \u001b[0;32mdef\u001b[0m \u001b[0mwrapped\u001b[0m\u001b[0;34m(\u001b[0m\u001b[0;34m*\u001b[0m\u001b[0margs\u001b[0m\u001b[0;34m,\u001b[0m \u001b[0;34m**\u001b[0m\u001b[0mkwargs\u001b[0m\u001b[0;34m)\u001b[0m\u001b[0;34m:\u001b[0m\u001b[0;34m\u001b[0m\u001b[0;34m\u001b[0m\u001b[0m\n\u001b[1;32m     47\u001b[0m     \u001b[0;32mif\u001b[0m \u001b[0;32mnot\u001b[0m \u001b[0mos\u001b[0m\u001b[0;34m.\u001b[0m\u001b[0menviron\u001b[0m\u001b[0;34m.\u001b[0m\u001b[0mget\u001b[0m\u001b[0;34m(\u001b[0m\u001b[0menv_var\u001b[0m\u001b[0;34m,\u001b[0m \u001b[0;32mFalse\u001b[0m\u001b[0;34m)\u001b[0m\u001b[0;34m:\u001b[0m\u001b[0;34m\u001b[0m\u001b[0;34m\u001b[0m\u001b[0m\n\u001b[0;32m---> 48\u001b[0;31m       \u001b[0;32mraise\u001b[0m \u001b[0mDisabledFunctionError\u001b[0m\u001b[0;34m(\u001b[0m\u001b[0mmessage\u001b[0m\u001b[0;34m,\u001b[0m \u001b[0mname\u001b[0m \u001b[0;32mor\u001b[0m \u001b[0mfunc\u001b[0m\u001b[0;34m.\u001b[0m\u001b[0m__name__\u001b[0m\u001b[0;34m)\u001b[0m\u001b[0;34m\u001b[0m\u001b[0;34m\u001b[0m\u001b[0m\n\u001b[0m\u001b[1;32m     49\u001b[0m     \u001b[0;32mreturn\u001b[0m \u001b[0mfunc\u001b[0m\u001b[0;34m(\u001b[0m\u001b[0;34m*\u001b[0m\u001b[0margs\u001b[0m\u001b[0;34m,\u001b[0m \u001b[0;34m**\u001b[0m\u001b[0mkwargs\u001b[0m\u001b[0;34m)\u001b[0m\u001b[0;34m\u001b[0m\u001b[0;34m\u001b[0m\u001b[0m\n\u001b[1;32m     50\u001b[0m \u001b[0;34m\u001b[0m\u001b[0m\n",
            "\u001b[0;31mDisabledFunctionError\u001b[0m: cv2.imshow() is disabled in Colab, because it causes Jupyter sessions\nto crash; see https://github.com/jupyter/notebook/issues/3935.\nAs a substitution, consider using\n  from google.colab.patches import cv2_imshow\n"
          ],
          "errorDetails": {
            "actions": [
              {
                "action": "open_snippet",
                "actionText": "Search Snippets for cv2.imshow",
                "snippetFilter": "cv2.imshow"
              }
            ]
          }
        }
      ]
    },
    {
      "cell_type": "code",
      "source": [
        "cap.release()\n",
        "result.release()\n",
        "cv2.destroyAllWindows()"
      ],
      "metadata": {
        "id": "H5mhKGOY_jns"
      },
      "execution_count": null,
      "outputs": []
    },
    {
      "cell_type": "code",
      "source": [],
      "metadata": {
        "id": "hiC6EQkv_jhr"
      },
      "execution_count": null,
      "outputs": []
    },
    {
      "cell_type": "code",
      "source": [],
      "metadata": {
        "id": "EFAQU94m_jdT"
      },
      "execution_count": null,
      "outputs": []
    },
    {
      "cell_type": "code",
      "source": [],
      "metadata": {
        "id": "xf3WUCOn_jYT"
      },
      "execution_count": null,
      "outputs": []
    },
    {
      "cell_type": "code",
      "source": [],
      "metadata": {
        "id": "bXRw-oVbohFN"
      },
      "execution_count": null,
      "outputs": []
    },
    {
      "cell_type": "code",
      "source": [],
      "metadata": {
        "id": "9ZpJ1yhr5Nzl"
      },
      "execution_count": null,
      "outputs": []
    },
    {
      "cell_type": "code",
      "source": [],
      "metadata": {
        "id": "tSd1s5se5N34"
      },
      "execution_count": null,
      "outputs": []
    },
    {
      "cell_type": "code",
      "source": [],
      "metadata": {
        "id": "2FBw90uq5N6q"
      },
      "execution_count": null,
      "outputs": []
    },
    {
      "cell_type": "code",
      "source": [],
      "metadata": {
        "id": "_RUBg7RZ5O-_"
      },
      "execution_count": null,
      "outputs": []
    },
    {
      "cell_type": "code",
      "source": [],
      "metadata": {
        "id": "Q0vONQ6M5PIe"
      },
      "execution_count": null,
      "outputs": []
    },
    {
      "cell_type": "code",
      "source": [],
      "metadata": {
        "id": "FV390-WV5PL-"
      },
      "execution_count": null,
      "outputs": []
    },
    {
      "cell_type": "code",
      "source": [],
      "metadata": {
        "id": "AuYTg_2t5PPJ"
      },
      "execution_count": null,
      "outputs": []
    },
    {
      "cell_type": "code",
      "source": [],
      "metadata": {
        "id": "H1TMJbUItlPa"
      },
      "execution_count": null,
      "outputs": []
    },
    {
      "cell_type": "code",
      "source": [],
      "metadata": {
        "id": "a9wljh_JtlTL"
      },
      "execution_count": null,
      "outputs": []
    },
    {
      "cell_type": "code",
      "source": [],
      "metadata": {
        "id": "jSNgiUeTtldr"
      },
      "execution_count": null,
      "outputs": []
    },
    {
      "cell_type": "code",
      "source": [],
      "metadata": {
        "id": "KGCEVWP0tlg2"
      },
      "execution_count": null,
      "outputs": []
    },
    {
      "cell_type": "code",
      "source": [],
      "metadata": {
        "id": "Hbqvt4k1tlki"
      },
      "execution_count": null,
      "outputs": []
    },
    {
      "cell_type": "code",
      "source": [],
      "metadata": {
        "id": "vRy5o-tHtlpD"
      },
      "execution_count": null,
      "outputs": []
    },
    {
      "cell_type": "code",
      "source": [],
      "metadata": {
        "id": "11YHDDOOtlsw"
      },
      "execution_count": null,
      "outputs": []
    },
    {
      "cell_type": "code",
      "source": [],
      "metadata": {
        "id": "5wtkJErvtluF"
      },
      "execution_count": null,
      "outputs": []
    }
  ]
}